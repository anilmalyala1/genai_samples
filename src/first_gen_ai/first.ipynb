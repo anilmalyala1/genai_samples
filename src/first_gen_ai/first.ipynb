{
 "cells": [
  {
   "cell_type": "code",
   "execution_count": 73,
   "id": "c9749b72",
   "metadata": {},
   "outputs": [
    {
     "name": "stdout",
     "output_type": "stream",
     "text": [
      "/Users/anilkumar/work/python_projects/first_gen_ai/.env\n",
      "Init\n"
     ]
    }
   ],
   "source": [
    "import os\n",
    "from langchain_openai import ChatOpenAI\n",
    "from langchain_google_vertexai import ChatVertexAI\n",
    "#help(ChatVertexAI)\n",
    "from dotenv import load_dotenv, find_dotenv\n",
    "from langchain_core.prompts import ChatPromptTemplate\n",
    "from langchain_core.messages import SystemMessage,HumanMessage\n",
    "\n",
    "from langchain.chains import LLMChain\n",
    "from langchain.prompts import PromptTemplate\n",
    "\n",
    "str_path=find_dotenv()\n",
    "print(str_path)\n",
    "os.environ[\"GOOGLE_APPLICATION_CREDENTIALS\"] = \"/Users/anilkumar/Downloads/ecommerce-ia-5d901-7d63226c761c.json\"\n",
    "print(\"Init\")"
   ]
  },
  {
   "cell_type": "code",
   "execution_count": 40,
   "id": "19c6a9d1",
   "metadata": {},
   "outputs": [],
   "source": [
    "model=ChatOpenAI()\n",
    "g_model=ChatVertexAI(model_name=\"gemini-pro\")"
   ]
  },
  {
   "cell_type": "code",
   "execution_count": 41,
   "id": "1822238f",
   "metadata": {},
   "outputs": [],
   "source": [
    "template=\"\"\" Question: {question} \n",
    "\n",
    "Answer: \"\"\""
   ]
  },
  {
   "cell_type": "code",
   "execution_count": 56,
   "id": "2f260427",
   "metadata": {},
   "outputs": [
    {
     "name": "stdout",
     "output_type": "stream",
     "text": [
      "Help on method from_messages in module langchain_core.prompts.chat:\n",
      "\n",
      "from_messages(messages: 'Sequence[MessageLikeRepresentation]', template_format: 'PromptTemplateFormat' = 'f-string') -> 'ChatPromptTemplate' method of pydantic._internal._model_construction.ModelMetaclass instance\n",
      "    Create a chat prompt template from a variety of message formats.\n",
      "    \n",
      "    Examples:\n",
      "        Instantiation from a list of message templates:\n",
      "    \n",
      "        .. code-block:: python\n",
      "    \n",
      "            template = ChatPromptTemplate.from_messages([\n",
      "                (\"human\", \"Hello, how are you?\"),\n",
      "                (\"ai\", \"I'm doing well, thanks!\"),\n",
      "                (\"human\", \"That's good to hear.\"),\n",
      "            ])\n",
      "    \n",
      "        Instantiation from mixed message formats:\n",
      "    \n",
      "        .. code-block:: python\n",
      "    \n",
      "            template = ChatPromptTemplate.from_messages([\n",
      "                SystemMessage(content=\"hello\"),\n",
      "                (\"human\", \"Hello, how are you?\"),\n",
      "            ])\n",
      "    \n",
      "    Args:\n",
      "        messages: sequence of message representations.\n",
      "              A message can be represented using the following formats:\n",
      "              (1) BaseMessagePromptTemplate, (2) BaseMessage, (3) 2-tuple of\n",
      "              (message type, template); e.g., (\"human\", \"{user_input}\"),\n",
      "              (4) 2-tuple of (message class, template), (5) a string which is\n",
      "              shorthand for (\"human\", template); e.g., \"{user_input}\".\n",
      "        template_format: format of the template. Defaults to \"f-string\".\n",
      "    \n",
      "    Returns:\n",
      "        a chat prompt template.\n",
      "\n"
     ]
    }
   ],
   "source": [
    "prompt=PromptTemplate(template=template, input_variables=['question'])\n",
    "help(ChatPromptTemplate.from_messages)"
   ]
  },
  {
   "cell_type": "code",
   "execution_count": 71,
   "id": "f6cb4342",
   "metadata": {},
   "outputs": [
    {
     "name": "stdout",
     "output_type": "stream",
     "text": [
      "Cricket is the most popular game in India.\n",
      "Subhash Chandra Bose was an Indian nationalist leader and freedom fighter who played a key role in the Indian independence movement against British colonial rule. He was born on January 23, 1897, and is popularly known as Netaji. Bose was a charismatic and influential figure who believed in using forceful means to achieve India's independence.\n",
      "\n",
      "Some of his major contributions to the Indian independence movement include:\n",
      "1. Formation of the Forward Bloc: Bose founded the Forward Bloc in 1939, a political party that opposed British colonial rule and advocated for complete independence for India.\n",
      "2. Azad Hind Fauj: Bose also established the Azad Hind Fauj, or Indian National Army (INA), which was a force of Indian soldiers who fought alongside the Japanese army against the British during World War II. \n",
      "3. Role in the INA trials: Bose's leadership of the INA and the trials of its members in 1945 played a significant role in weakening British colonial control over India.\n",
      "4. Support for organized armed resistance: Bose believed in the use of force and organized armed resistance as means to achieve India's independence, rather than non-violent protests advocated by leaders like Mahatma Gandhi.\n",
      "5. Influence on Indian youth: Bose's passionate leadership and call for complete independence inspired a generation of young Indians to join the freedom movement and work towards achieving independence from British rule.\n",
      "\n",
      "Subhash Chandra Bose remains a revered figure in India's history, known for his courage, determination, and unwavering commitment to the cause of Indian independence. His contributions to the independence movement continue to be celebrated and remembered by Indians today.\n",
      "I'm here to help. Please let me know how I can assist you today.\n",
      "Using Google Gemini....\n"
     ]
    }
   ],
   "source": [
    "question=\"Which is the most popular game in India, do not provide mobile phone or digital games\"\n",
    "llm_chain=LLMChain(prompt=prompt,llm=model)\n",
    "print(llm_chain.invoke(question)['text'])\n",
    "\n",
    "question=\"Who is Subhash Chandra Bose, what are his contributions for Indian Independence\"\n",
    "chat_prompt=ChatPromptTemplate.from_template(template)\n",
    "llm_chain = chat_prompt | model\n",
    "print(llm_chain.invoke({\"question\":question}).content)\n",
    "\n",
    "\n",
    "chat_prompt=ChatPromptTemplate.from_messages(\n",
    "        [\n",
    "            SystemMessage(\"I am AI assistant and my name is {name}\"),\n",
    "            HumanMessage(\"Hello AI assistant, Good to meet you, I am {my_name}\"),\n",
    "            SystemMessage(\"How can I help you\"),\n",
    "            HumanMessage(\"{message}\")\n",
    "        ]\n",
    ")\n",
    "\n",
    "#formatted_prompt=chat_prompt.format(name=\"Bob\",message=\"Whats the weather like in NSW Australia\")\n",
    "llm_chain = chat_prompt | model\n",
    "response=llm_chain.invoke({\"name\":\"Bob\",\"my_name\":\"Anil Kumar\",\"message\":\"Whats the weather like in NSW Australia\"})\n",
    "print(response.content)\n",
    "\n",
    "\n",
    "print(\"Using Google Gemini....\")\n",
    "\n",
    "chat_prompt=ChatPromptTemplate.from_template(template)\n",
    "llm_chain = chat_prompt | g_model\n",
    "#print(llm_chain.invoke({\"question\":question}).content)\n"
   ]
  },
  {
   "cell_type": "code",
   "execution_count": null,
   "id": "0d807bfb",
   "metadata": {},
   "outputs": [],
   "source": []
  }
 ],
 "metadata": {
  "kernelspec": {
   "display_name": "first-gen-ai-Ge4meLrB-py3.11",
   "language": "python",
   "name": "python3"
  },
  "language_info": {
   "codemirror_mode": {
    "name": "ipython",
    "version": 3
   },
   "file_extension": ".py",
   "mimetype": "text/x-python",
   "name": "python",
   "nbconvert_exporter": "python",
   "pygments_lexer": "ipython3",
   "version": "3.11.7"
  }
 },
 "nbformat": 4,
 "nbformat_minor": 5
}
