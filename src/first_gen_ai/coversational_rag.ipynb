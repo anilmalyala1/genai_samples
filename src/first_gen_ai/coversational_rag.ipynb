{
 "cells": [
  {
   "cell_type": "code",
   "execution_count": 1,
   "id": "9ca58e43",
   "metadata": {},
   "outputs": [
    {
     "data": {
      "text/plain": [
       "True"
      ]
     },
     "execution_count": 1,
     "metadata": {},
     "output_type": "execute_result"
    }
   ],
   "source": [
    "from dotenv import load_dotenv, find_dotenv\n",
    "import os\n",
    "from langchain_openai import ChatOpenAI\n",
    "from langchain_community.document_loaders import WebBaseLoader\n",
    "from langchain.text_splitter import RecursiveCharacterTextSplitter\n",
    "from langchain import PromptTemplate\n",
    "from langchain_community.vectorstores import Chroma\n",
    "from langchain_openai.embeddings import OpenAIEmbeddings\n",
    "from langchain.chains.combine_documents import create_stuff_documents_chain\n",
    "from langchain.chains.retrieval import create_retrieval_chain\n",
    "\n",
    "# Load environment variables\n",
    "load_dotenv(find_dotenv())"
   ]
  },
  {
   "cell_type": "code",
   "execution_count": 7,
   "id": "803fe4a0",
   "metadata": {},
   "outputs": [],
   "source": [
    "# Load the web page\n",
    "page = WebBaseLoader(\"https://www.wikihow.com/Do-Yoga\")\n",
    "web_page_document = page.load()\n",
    "\n",
    "#print(\"Loaded documents:\", len(web_page_document))\n",
    "\n",
    "# Split documents\n",
    "text_splitter = RecursiveCharacterTextSplitter()\n",
    "documents = text_splitter.split_documents(documents=web_page_document)\n",
    "\n",
    "# Initialize components\n",
    "llm = ChatOpenAI()\n",
    "embeddings = OpenAIEmbeddings()\n",
    "vector_db = Chroma.from_documents(documents, embeddings)"
   ]
  },
  {
   "cell_type": "code",
   "execution_count": 8,
   "id": "a0abfb52",
   "metadata": {},
   "outputs": [],
   "source": [
    "from langchain.prompts import ChatPromptTemplate\n",
    "from langchain_core.prompts.chat import MessagesPlaceholder\n",
    "\n",
    "retriever=vector_db.as_retriever()\n",
    "\n",
    "chat_prompt=ChatPromptTemplate.from_messages(\n",
    "    [\n",
    "        MessagesPlaceholder(variable_name=\"chat_history\"),\n",
    "        (\"user\",\"{input}\"),\n",
    "        (\"user\", \"Given the above conversation, generate a search query to look up in order to get information relevant to conversation\")\n",
    "    ]\n",
    "\n",
    ")"
   ]
  },
  {
   "cell_type": "code",
   "execution_count": 11,
   "id": "32816c95",
   "metadata": {},
   "outputs": [],
   "source": [
    "from langchain.chains.history_aware_retriever import create_history_aware_retriever\n",
    "from langchain_core.messages import AIMessage\n",
    "from langchain_core.messages.human import HumanMessage\n",
    "retriever_chain=create_history_aware_retriever(llm,retriever,chat_prompt)\n",
    "sample_answer=\"\"\"\n",
    "                Some points for Yoga beginner are :\n",
    "                Silence your phone, turn off screens, and let others in your household know you're not to be disturbed.\n",
    "                The more you practice, the easier it'll be to devote time to yoga every day.\n",
    "                Try scheduling your at-home practices at the beginning of the week, marking in your calendar how long each flow is and when you’ll complete it.\n",
    "              \"\"\"  \n",
    "chat_history=[\n",
    "                HumanMessage(content=\"What are the things if someone consider to start yoga\"),\n",
    "                AIMessage(content=sample_answer)\n",
    "             ]\n"
   ]
  },
  {
   "cell_type": "code",
   "execution_count": 14,
   "id": "11a3513b",
   "metadata": {},
   "outputs": [],
   "source": [
    "chat_prompt=ChatPromptTemplate.from_messages( [\n",
    "    (\"system\",\"Answer the user's questions based on the below context:\\n\\n {context}\"),\n",
    "    MessagesPlaceholder(variable_name=\"chat_history\"),\n",
    "    (\"user\",\"{input}\")\n",
    "  ]\n",
    ")\n",
    "\n",
    "document_chain=create_stuff_documents_chain(llm,chat_prompt)\n",
    "retrieval_chain=create_retrieval_chain(retriever_chain,document_chain)"
   ]
  },
  {
   "cell_type": "code",
   "execution_count": 19,
   "id": "2fb0b86c",
   "metadata": {},
   "outputs": [
    {
     "name": "stdout",
     "output_type": "stream",
     "text": [
      "To start yoga, you can begin by finding a comfortable place to practice, devoting a set amount of time to your practice, setting a goal for your practice, choosing a yoga style that works best for you, and following a guided video to begin your at-home yoga practice. You can also find free beginner yoga practices on platforms like YouTube or use yoga apps like Down Dog, Daily Yoga, or Gaia for instructional material. Practicing in a way that is enjoyable for you is key to sticking with it, so adapt your practice and poses to suit your body and preferences.\n"
     ]
    }
   ],
   "source": [
    "output=retrieval_chain.invoke({\"chat_history\":chat_history, \"input\":\"How do i start yoga\"})\n",
    "print(output[\"answer\"])"
   ]
  },
  {
   "cell_type": "code",
   "execution_count": null,
   "id": "255250a1",
   "metadata": {},
   "outputs": [],
   "source": []
  }
 ],
 "metadata": {
  "kernelspec": {
   "display_name": "first-gen-ai-Ge4meLrB-py3.11",
   "language": "python",
   "name": "python3"
  },
  "language_info": {
   "codemirror_mode": {
    "name": "ipython",
    "version": 3
   },
   "file_extension": ".py",
   "mimetype": "text/x-python",
   "name": "python",
   "nbconvert_exporter": "python",
   "pygments_lexer": "ipython3",
   "version": "3.11.7"
  }
 },
 "nbformat": 4,
 "nbformat_minor": 5
}
